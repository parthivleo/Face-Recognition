{
 "cells": [
  {
   "cell_type": "code",
   "execution_count": 2,
   "metadata": {},
   "outputs": [],
   "source": [
    "import face_recognition as fr\n",
    "import cv2\n",
    "import glob\n",
    "import numpy as np\n",
    "import os\n",
    "from sklearn.multiclass import OneVsRestClassifier"
   ]
  },
  {
   "cell_type": "code",
   "execution_count": 11,
   "metadata": {},
   "outputs": [
    {
     "name": "stdout",
     "output_type": "stream",
     "text": [
      "17 Abdullah_Gul\n",
      "50 Adrien_Brody\n",
      "121 Alejandro_Toledo\n",
      "204 Alvaro_Uribe\n",
      "223 Amelie_Mauresmo\n",
      "272 Andre_Agassi\n",
      "290 Andy_Roddick\n",
      "302 Angelina_Jolie\n",
      "317 Anna_Kournikova\n",
      "335 Ann_Veneman\n",
      "370 Ariel_Sharon\n",
      "374 Ari_Fleischer\n",
      "386 Arnold_Schwarzenegger\n",
      "417 Atal_Bihari_Vajpayee\n",
      "544 Bill_Clinton\n",
      "551 Bill_Gates\n",
      "562 Bill_McBride\n",
      "573 Bill_Simon\n",
      "706 Britney_Spears\n",
      "781 Carlos_Menem\n",
      "783 Carlos_Moya\n",
      "831 Catherine_Zeta-Jones\n",
      "875 Charles_Moose\n",
      "1047 Colin_Powell\n",
      "1059 Condoleezza_Rice\n",
      "1207 David_Beckham\n",
      "1252 David_Nalbandian\n",
      "1347 Dick_Cheney\n",
      "1382 Dominique_de_Villepin\n",
      "1393 Donald_Rumsfeld\n",
      "1473 Edmund_Stoiber\n",
      "1476 Eduardo_Duhalde\n",
      "1704 Fidel_Castro\n",
      "1854 George_HW_Bush\n",
      "1865 George_Robertson\n",
      "1870 George_W_Bush\n",
      "1891 Gerhard_Schroeder\n",
      "1932 Gloria_Macapagal_Arroyo\n",
      "1940 Gonzalo_Sanchez_de_Lozada\n",
      "1945 Gordon_Brown\n",
      "1964 Gray_Davis\n",
      "1993 Guillermo_Coria\n",
      "426\n"
     ]
    }
   ],
   "source": [
    "\"\"\"\n",
    "...\n",
    "...\n",
    "Run this cell to load training data\n",
    "...\n",
    "...\n",
    "\"\"\"\n",
    "data = \"../lfw/*/\"\n",
    "x = []\n",
    "y = []\n",
    "classes = {}\n",
    "#num_classes = len(glob.glob(os.path.join(data)))\n",
    "#n = random.randint(0, num_classes)\n",
    "for idx, folder in enumerate(glob.glob(os.path.join(data))):\n",
    "    if idx == 2000:\n",
    "        break\n",
    "    num_pics = len(glob.glob(os.path.join(folder+\"*\")))\n",
    "    if num_pics < 10:\n",
    "        continue\n",
    "    use = glob.glob(os.path.join(folder+\"*\"))[:10]\n",
    "    person_name = folder.split(\"\\\\\")[1]\n",
    "    print(idx, person_name)\n",
    "    classes[idx] = person_name\n",
    "    for f in use:\n",
    "        pic = cv2.imread(f)\n",
    "        detected_pos = fr.face_locations(pic)\n",
    "        for i in detected_pos:\n",
    "            top, right, bottom, left = i\n",
    "            face_image = pic[top:bottom, left:right]\n",
    "            try:\n",
    "                face_image = cv2.resize(face_image, (256, 256))\n",
    "                face_embedding = fr.face_encodings(face_image)[0]\n",
    "                x.append(face_embedding)\n",
    "                y.append(idx)\n",
    "            except:\n",
    "                continue\n",
    "print(len(x))"
   ]
  },
  {
   "cell_type": "code",
   "execution_count": 93,
   "metadata": {},
   "outputs": [],
   "source": [
    "import json \n",
    "with open(\"classes.json\", \"w\") as outfile:\n",
    "    json.dump(classes, outfile)"
   ]
  },
  {
   "cell_type": "code",
   "execution_count": 3,
   "metadata": {},
   "outputs": [
    {
     "name": "stdout",
     "output_type": "stream",
     "text": [
      "{'17': 'Abdullah_Gul', '50': 'Adrien_Brody', '121': 'Alejandro_Toledo', '204': 'Alvaro_Uribe', '223': 'Amelie_Mauresmo', '272': 'Andre_Agassi', '290': 'Andy_Roddick', '302': 'Angelina_Jolie', '317': 'Anna_Kournikova', '335': 'Ann_Veneman', '370': 'Ariel_Sharon', '374': 'Ari_Fleischer', '386': 'Arnold_Schwarzenegger', '417': 'Atal_Bihari_Vajpayee', '544': 'Bill_Clinton', '551': 'Bill_Gates', '562': 'Bill_McBride', '573': 'Bill_Simon', '706': 'Britney_Spears', '781': 'Carlos_Menem', '783': 'Carlos_Moya', '831': 'Catherine_Zeta-Jones', '875': 'Charles_Moose', '1047': 'Colin_Powell', '1059': 'Condoleezza_Rice', '1207': 'David_Beckham', '1252': 'David_Nalbandian', '1347': 'Dick_Cheney', '1382': 'Dominique_de_Villepin', '1393': 'Donald_Rumsfeld', '1473': 'Edmund_Stoiber', '1476': 'Eduardo_Duhalde', '1704': 'Fidel_Castro', '1854': 'George_HW_Bush', '1865': 'George_Robertson', '1870': 'George_W_Bush', '1891': 'Gerhard_Schroeder', '1932': 'Gloria_Macapagal_Arroyo', '1940': 'Gonzalo_Sanchez_de_Lozada', '1945': 'Gordon_Brown', '1964': 'Gray_Davis', '1993': 'Guillermo_Coria'}\n"
     ]
    }
   ],
   "source": [
    "import json\n",
    "class_f = open('classes.json')\n",
    "classes = json.load(class_f)\n",
    "print(dict(classes))"
   ]
  },
  {
   "cell_type": "code",
   "execution_count": 4,
   "metadata": {},
   "outputs": [],
   "source": [
    "from sklearn.metrics import accuracy_score\n",
    "from sklearn.preprocessing import LabelEncoder\n",
    "from sklearn.preprocessing import Normalizer\n",
    "from sklearn.svm import SVC\n",
    "import pickle\n",
    "\n",
    "\n",
    "#Uncomment these lines if you want to train a new model.\n",
    "\n",
    "\"\"\"\n",
    "model = OneVsRestClassifier(SVC(kernel='linear', probability=True, verbose=True, max_iter=1000))\n",
    "model.fit(x, y)\n",
    "pickle.dump(model, open(\"./model.pickle\", 'wb'))\"\"\""
   ]
  },
  {
   "cell_type": "code",
   "execution_count": 5,
   "metadata": {},
   "outputs": [],
   "source": [
    "model = pickle.load(open(\"./model.pickle\",'rb'))"
   ]
  },
  {
   "cell_type": "code",
   "execution_count": 6,
   "metadata": {
    "scrolled": true
   },
   "outputs": [
    {
     "data": {
      "text/plain": [
       "array([  17,   50,  121,  204,  223,  272,  290,  302,  317,  335,  370,\n",
       "        374,  386,  417,  544,  551,  562,  573,  706,  781,  783,  831,\n",
       "        875, 1047, 1059, 1207, 1252, 1347, 1382, 1393, 1473, 1476, 1704,\n",
       "       1854, 1865, 1870, 1891, 1932, 1940, 1945, 1964, 1993])"
      ]
     },
     "execution_count": 6,
     "metadata": {},
     "output_type": "execute_result"
    }
   ],
   "source": [
    "model.classes_"
   ]
  },
  {
   "cell_type": "code",
   "execution_count": 7,
   "metadata": {
    "scrolled": false
   },
   "outputs": [
    {
     "name": "stdout",
     "output_type": "stream",
     "text": [
      "42\n",
      "['17', '50', '121', '204', '223', '272', '290', '302', '317', '335', '370', '374', '386', '417', '544', '551', '562', '573', '706', '781', '783', '831', '875', '1047', '1059', '1207', '1252', '1347', '1382', '1393', '1473', '1476', '1704', '1854', '1865', '1870', '1891', '1932', '1940', '1945', '1964', '1993']\n"
     ]
    }
   ],
   "source": [
    "class_list = list(classes.keys())\n",
    "print(len(class_list))\n",
    "print(class_list)"
   ]
  },
  {
   "cell_type": "markdown",
   "metadata": {},
   "source": [
    "### Here we go one by one through each test face image"
   ]
  },
  {
   "cell_type": "code",
   "execution_count": 42,
   "metadata": {
    "scrolled": false
   },
   "outputs": [
    {
     "name": "stdout",
     "output_type": "stream",
     "text": [
      "0 Angelina_Jolie\n",
      "Angelina_Jolie 0.847412496311433\n",
      "Angelina_Jolie 0.8555918807050934\n",
      "1 Arnold_Schwarzenegger\n",
      "Arnold_Schwarzenegger 0.8567437045431145\n",
      "2 Atal_Bihari_Vajpayee\n",
      "Atal_Bihari_Vajpayee 0.7583958862424843\n",
      "Atal_Bihari_Vajpayee 0.8698240790668677\n",
      "3 Ben_Affleck\n",
      "Face not found!\n",
      "Face not Found!\n",
      "Face not Found!\n",
      "Face not Found!\n",
      "Face not found!\n",
      "Face not Found!\n",
      "Face not found!\n",
      "4 Bill_Clinton\n",
      "Bill_Clinton 0.9019500973477823\n",
      "Bill_Clinton 0.7402862380662191\n",
      "Bill_Clinton 0.7530243015160745\n",
      "5 Bill_Gates\n",
      "Bill_Gates 0.8517347508201452\n",
      "Bill_Gates 0.8240598993401298\n",
      "6 Britney_Spears\n",
      "Britney_Spears 0.8117965004096812\n",
      "Britney_Spears 0.8157516969089398\n",
      "Britney_Spears 0.795923989123969\n",
      "7 Charles_Moose\n",
      "Charles_Moose 0.8244098826157716\n",
      "Charles_Moose 0.8985889341828631\n",
      "Charles_Moose 0.8874299673427328\n",
      "8 David_Beckham\n",
      "David_Beckham\n",
      "9 Fidel_Castro\n",
      "Fidel_Castro 0.7560513208829484\n",
      "10 George_HW_Bush\n",
      "George_HW_Bush 0.8190898254840092\n",
      "11 George_W_Bush\n",
      "George_W_Bush 0.8252153657441565\n",
      "George_W_Bush 0.8993389551450134\n"
     ]
    }
   ],
   "source": [
    "data = \"./archive/new_val/*/\"\n",
    "#data = \"../lfw/*/\"\n",
    "for idx, folder in enumerate(glob.glob(os.path.join(data))):\n",
    "    use = glob.glob(os.path.join(folder+\"*\"))\n",
    "    person_name = folder.split(\"\\\\\")[1]\n",
    "    print(idx, person_name)\n",
    "    #classes[idx] = person_name\n",
    "    for f in use:\n",
    "        pic = cv2.imread(f)\n",
    "        try:\n",
    "            face_embedding = fr.face_encodings(pic)[0]\n",
    "            test = np.asarray(face_embedding)\n",
    "            test=  np.reshape(test, (1, -1))\n",
    "            pred = model.predict_proba(test)[0]\n",
    "            if np.max(pred) > 0.7:\n",
    "                print(classes[str(class_list[np.argmax(pred)])], np.max(pred))\n",
    "            elif np.max(pred) > 0.5 :\n",
    "                #added to see what it predicts when highest probability is quite low\n",
    "                #print(classes[str(class_list[np.argmax(pred)])], np.max(pred)) \n",
    "                choose_folder = \"../lfw\\\\\"+classes[str(class_list[np.argmax(pred)])]+\"\\\\*\"\n",
    "                test_pic_path = glob.glob(os.path.join(choose_folder))[0]\n",
    "                test_pic = cv2.imread(test_pic_path)\n",
    "                try:\n",
    "                    test_face_embedding = fr.face_encodings(test_pic)[0]\n",
    "                    results = fr.compare_faces([face_embedding], test_face_embedding)\n",
    "                    if results[0]:\n",
    "                        print(classes[str(class_list[np.argmax(pred)])], np.max(pred)) \n",
    "                    else:\n",
    "                        print(\"Face not found!\")\n",
    "                except Exception as first_e:\n",
    "                    raise(first_e)\n",
    "            else:\n",
    "                print(\"Face not found!\")\n",
    "                    \n",
    "        except Exception as e:\n",
    "            raise(e)\n",
    "            continue\n",
    "            "
   ]
  },
  {
   "cell_type": "markdown",
   "metadata": {},
   "source": [
    "### Here we input all face embeddings in a single array - gives faster results"
   ]
  },
  {
   "cell_type": "code",
   "execution_count": 8,
   "metadata": {},
   "outputs": [
    {
     "name": "stdout",
     "output_type": "stream",
     "text": [
      "0 Angelina_Jolie\n",
      "1 Arnold_Schwarzenegger\n",
      "2 Atal_Bihari_Vajpayee\n",
      "3 Ben_Affleck\n",
      "4 Bill_Clinton\n",
      "5 Bill_Gates\n",
      "6 Britney_Spears\n",
      "7 Charles_Moose\n",
      "8 David_Beckham\n",
      "9 Fidel_Castro\n",
      "10 George_HW_Bush\n",
      "11 George_W_Bush\n"
     ]
    }
   ],
   "source": [
    "data = \"./archive/new_val/*/\"\n",
    "testx = []\n",
    "for idx, folder in enumerate(glob.glob(os.path.join(data))):\n",
    "    use = glob.glob(os.path.join(folder+\"*\"))\n",
    "    person_name = folder.split(\"\\\\\")[1]\n",
    "    print(idx, person_name)\n",
    "    for f in use:\n",
    "        pic = cv2.imread(f)\n",
    "        try:\n",
    "            face_embedding = fr.face_encodings(pic)[0]\n",
    "            test = np.asarray(face_embedding)\n",
    "            \n",
    "            testx.append(test)\n",
    "        except:\n",
    "            continue\n"
   ]
  },
  {
   "cell_type": "code",
   "execution_count": 10,
   "metadata": {},
   "outputs": [
    {
     "name": "stdout",
     "output_type": "stream",
     "text": [
      "Angelina_Jolie 0.8474124963114331\n",
      "Angelina_Jolie 0.8555918807050937\n",
      "Arnold_Schwarzenegger 0.8567437045431144\n",
      "Atal_Bihari_Vajpayee 0.7583958862424842\n",
      "Atal_Bihari_Vajpayee 0.8698240790668677\n",
      "Face not found!\n",
      "Face not found!\n",
      "Face not found!\n",
      "Face not found!\n",
      "Face not found!\n",
      "Face not found!\n",
      "Face not found!\n",
      "Bill_Clinton 0.9019500973477825\n",
      "Bill_Clinton 0.740286238066219\n",
      "Bill_Clinton 0.7530243015160747\n",
      "Bill_Gates 0.8517347508201448\n",
      "Bill_Gates 0.8240598993401296\n",
      "Britney_Spears 0.8117965004096811\n",
      "Britney_Spears 0.8157516969089399\n",
      "Britney_Spears 0.7959239891239691\n",
      "Charles_Moose 0.8244098826157716\n",
      "Charles_Moose 0.898588934182863\n",
      "Charles_Moose 0.8874299673427327\n",
      "David_Beckham 0.5144691863901363\n",
      "Fidel_Castro 0.7560513208829485\n",
      "George_HW_Bush 0.8190898254840092\n",
      "George_W_Bush 0.8252153657441567\n",
      "George_W_Bush 0.8993389551450134\n"
     ]
    }
   ],
   "source": [
    "probs = model.predict_proba(testx)\n",
    "for idx, pred in enumerate(probs):\n",
    "    if np.max(pred) > 0.7:\n",
    "        print(classes[str(class_list[np.argmax(pred)])], np.max(pred))\n",
    "    elif np.max(pred) > 0.5:\n",
    "        choose_folder = \"../lfw\\\\\"+classes[str(class_list[np.argmax(pred)])]+\"\\\\*\"\n",
    "        real_face_embedding = testx[idx]\n",
    "        test_pic_path = glob.glob(os.path.join(choose_folder))[0]\n",
    "        test_pic = cv2.imread(test_pic_path)\n",
    "        try:\n",
    "            test_face_embedding = fr.face_encodings(test_pic)[0]\n",
    "            results = fr.compare_faces([real_face_embedding], test_face_embedding)\n",
    "            if results[0]:\n",
    "                print(classes[str(class_list[np.argmax(pred)])], np.max(pred)) \n",
    "            else:\n",
    "                print(\"Face not found!\")\n",
    "        except Exception as first_e:\n",
    "            print(\"Face not found!\")\n",
    "    else:\n",
    "        print(\"Face not found!\")"
   ]
  },
  {
   "cell_type": "code",
   "execution_count": null,
   "metadata": {},
   "outputs": [],
   "source": []
  }
 ],
 "metadata": {
  "kernelspec": {
   "display_name": "Python 3",
   "language": "python",
   "name": "python3"
  },
  "language_info": {
   "codemirror_mode": {
    "name": "ipython",
    "version": 3
   },
   "file_extension": ".py",
   "mimetype": "text/x-python",
   "name": "python",
   "nbconvert_exporter": "python",
   "pygments_lexer": "ipython3",
   "version": "3.9.1"
  }
 },
 "nbformat": 4,
 "nbformat_minor": 4
}
